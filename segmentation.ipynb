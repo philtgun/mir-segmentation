{
 "cells": [
  {
   "cell_type": "markdown",
   "metadata": {},
   "source": [
    "# MIR Project: melody segmentation\n",
    "Prepared by Philip Tovstogan\n",
    "\n",
    "This project evaluates the performance of two melody segmentation algorithms:\n",
    "\n",
    "### Local Boundary Detection Model (LBDM) by Cambouropoulos ([MATLAB code](https://github.com/miditoolbox/1.1/blob/master/miditoolbox/boundary.m))\n",
    "\n",
    "*Cambouropoulos, E. (1997). Musical rhythm: A formal model for determining local boundaries, accents and metre in a melodic surface. In M. Leman (Ed.), Music, Gestalt, and Computing: Studies in Cognitive and Systematic Musicology (pp. 277-293). Berlin: Springer Verlag.*\n",
    "\n",
    "\n",
    "### Segmentation algorithm by Tenney & Polansky ([MATLAB code](https://github.com/miditoolbox/1.1/blob/master/miditoolbox/segmentgestalt.m))\n",
    "\n",
    "*Tenney, J.  & Polansky, L. (1980). Temporal gestalt perception in music. Journal of Music Theory, 24(2), 205–41.*\n",
    "\n",
    "The dataset that is used for evaluation is [SymbTr](https://github.com/MTG/makam-symbolic-phrase-segmentation) that is a collection of Turkish Makam music with ground-truth annotations for phrase boundaries."
   ]
  },
  {
   "cell_type": "code",
   "execution_count": 1,
   "metadata": {},
   "outputs": [],
   "source": [
    "import music21 as m21\n",
    "import numpy as np\n",
    "import matplotlib.pyplot as plt\n",
    "%matplotlib inline"
   ]
  },
  {
   "cell_type": "code",
   "execution_count": 221,
   "metadata": {},
   "outputs": [],
   "source": [
    "def lbdm(midi_data):\n",
    "    \"\"\"Implementing LBDM as in Miditoolbox (boundary.m)\"\"\"\n",
    "    note_midi = np.array([note.pitch.midi for note in midi_data.recurse().notes])\n",
    "    pitch_profile = np.abs(note_midi[1:] - note_midi[:-1])  # Miditoolbox variable 'pp'\n",
    "    \n",
    "    onsets = []  # Miditoolbox variable 'on'\n",
    "    offsets_org = []\n",
    "    durations = []\n",
    "    \n",
    "    print(midi_data.timeSignature)\n",
    "    for note in midi_data.recurse().notes:\n",
    "        if type(note) is m21.note.Note:  # avoid data without duration, not a note event\n",
    "            onsets.append(note.offset)\n",
    "            durations.append(note.duration.quarterLength)\n",
    "            offsets_org.append(note.offset)\n",
    "    \n",
    "    onsets = np.array(onsets)\n",
    "    durations = np.array(durations)\n",
    "    offsets = onsets + durations  # Miditoolbox variable 'off'\n",
    "\n",
    "    ioi_profile = onsets[1:] - onsets[:-1]  # Miditoolbox variable 'po'\n",
    "    rest_profile = onsets[1:] - offsets[:-1]  # Miditoolbox variable 'pr'\n",
    "    rest_profile = (rest_profile + np.abs(rest_profile)) / 2  # half wave rect. (max(0,x) in Miditoolbox)\n",
    "\n",
    "    # degrees of change [see boundary.m]\n",
    "    rp = np.abs(pitch_profile[1:] - pitch_profile[:-1]) / (0.000001 + pitch_profile[1:] + pitch_profile[:-1])\n",
    "    rp = np.append(rp,0)\n",
    "    ro = [np.abs(ioi_profile[1:] - ioi_profile[:-1]) / (0.000001 + ioi_profile[1:] + ioi_profile[:-1])]\n",
    "    ro = np.append(ro,0)\n",
    "    rr = [np.abs(rest_profile[1:] - rest_profile[:-1]) / (0.000001 + rest_profile[1:] + rest_profile[:-1])]\n",
    "    rr = np.append(rr,0)\n",
    "\n",
    "    # strengths\n",
    "    sp = pitch_profile * np.append(0, rp[:-1] + rp[1:])\n",
    "    if np.max(sp) > 0.1:\n",
    "        sp = sp / np.max(sp)\n",
    "\n",
    "    so = ioi_profile*np.append(0, ro[:-1] + ro[1:])\n",
    "    if np.max(so) > 0.1:\n",
    "        so = so / np.max(so)\n",
    "\n",
    "    sr = rest_profile * np.append(0, rr[:-1] + rr[1:])\n",
    "    if np.max(sr) > 0.1:\n",
    "        sr = sr / np.max(sr)\n",
    "\n",
    "    # overall profile\n",
    "    return np.array(onsets), np.append(1, 0.25*sp + 0.5*so + 0.25*sr)"
   ]
  },
  {
   "cell_type": "code",
   "execution_count": 203,
   "metadata": {},
   "outputs": [],
   "source": [
    "test_filename = 'hicaz--sarki--aksak--su_karsiki--dede_efendi'\n",
    "# test_filename = 'mahur--sarki--sofyan--ne_dogan--munir_nurettin_selcuk'\n",
    "# test_filename = 'hicaz--sarki--aksak--su_karsiki_dagda--dede_efendi'\n",
    "midi_data = m21.converter.parse('midi/{}.mid'.format(test_filename))"
   ]
  },
  {
   "cell_type": "code",
   "execution_count": 215,
   "metadata": {},
   "outputs": [
    {
     "data": {
      "image/png": "[encoded data removed]",
      "text/plain": [
       "<Figure size 720x432 with 1 Axes>"
      ]
     },
     "metadata": {
      "image/png": {
       "height": 382,
       "width": 589
      }
     },
     "output_type": "display_data"
    }
   ],
   "source": [
    "# test_data = midi_data.measures(1, 4)\n",
    "test_data = midi_data\n",
    "test_data.measures(0, 4).plot()"
   ]
  },
  {
   "cell_type": "code",
   "execution_count": 38,
   "metadata": {},
   "outputs": [
    {
     "name": "stdout",
     "output_type": "stream",
     "text": [
      "<class 'music21.tempo.MetronomeMark'>\n",
      "<class 'music21.meter.TimeSignature'>\n",
      "<class 'music21.note.Note'>\n",
      "<class 'music21.note.Note'>\n",
      "<class 'music21.note.Note'>\n",
      "<class 'music21.note.Note'>\n",
      "<class 'music21.note.Note'>\n",
      "<class 'music21.note.Note'>\n",
      "<class 'music21.note.Note'>\n",
      "<class 'music21.note.Note'>\n",
      "<class 'music21.note.Note'>\n",
      "<class 'music21.note.Note'>\n",
      "<class 'music21.note.Note'>\n",
      "<class 'music21.note.Note'>\n",
      "<class 'music21.note.Note'>\n",
      "<class 'music21.note.Rest'>\n",
      "<class 'music21.note.Note'>\n",
      "<class 'music21.note.Note'>\n",
      "<class 'music21.note.Note'>\n",
      "<class 'music21.note.Note'>\n",
      "<class 'music21.note.Note'>\n",
      "<class 'music21.note.Note'>\n",
      "<class 'music21.note.Note'>\n",
      "<class 'music21.note.Note'>\n",
      "<class 'music21.note.Note'>\n",
      "<class 'music21.note.Note'>\n",
      "<class 'music21.note.Note'>\n",
      "<class 'music21.note.Note'>\n",
      "<class 'music21.note.Note'>\n",
      "<class 'music21.note.Note'>\n",
      "<class 'music21.note.Note'>\n",
      "<class 'music21.note.Note'>\n",
      "<class 'music21.note.Note'>\n",
      "<class 'music21.note.Note'>\n",
      "<class 'music21.note.Note'>\n",
      "<class 'music21.note.Note'>\n",
      "<class 'music21.note.Note'>\n",
      "<class 'music21.note.Note'>\n",
      "<class 'music21.note.Note'>\n",
      "<class 'music21.note.Note'>\n",
      "<class 'music21.note.Note'>\n",
      "<class 'music21.note.Note'>\n",
      "<class 'music21.note.Note'>\n",
      "<class 'music21.note.Note'>\n",
      "<class 'music21.note.Note'>\n",
      "<class 'music21.note.Note'>\n",
      "<class 'music21.note.Note'>\n",
      "<class 'music21.note.Note'>\n",
      "<class 'music21.note.Rest'>\n",
      "<class 'music21.note.Note'>\n",
      "<class 'music21.note.Note'>\n",
      "<class 'music21.note.Note'>\n",
      "<class 'music21.note.Note'>\n",
      "<class 'music21.note.Note'>\n",
      "<class 'music21.note.Note'>\n",
      "<class 'music21.note.Note'>\n",
      "<class 'music21.note.Note'>\n",
      "<class 'music21.note.Note'>\n",
      "<class 'music21.note.Note'>\n",
      "<class 'music21.note.Note'>\n",
      "<class 'music21.note.Note'>\n",
      "<class 'music21.note.Note'>\n",
      "<class 'music21.note.Note'>\n",
      "<class 'music21.note.Note'>\n",
      "<class 'music21.note.Note'>\n",
      "<class 'music21.note.Note'>\n",
      "<class 'music21.note.Note'>\n",
      "<class 'music21.note.Note'>\n",
      "<class 'music21.note.Note'>\n",
      "<class 'music21.note.Note'>\n",
      "<class 'music21.note.Note'>\n",
      "<class 'music21.note.Note'>\n",
      "<class 'music21.note.Note'>\n",
      "<class 'music21.note.Note'>\n",
      "<class 'music21.note.Note'>\n",
      "<class 'music21.note.Note'>\n",
      "<class 'music21.note.Note'>\n",
      "<class 'music21.note.Note'>\n",
      "<class 'music21.note.Note'>\n",
      "<class 'music21.note.Note'>\n",
      "<class 'music21.note.Note'>\n",
      "<class 'music21.note.Note'>\n",
      "<class 'music21.note.Note'>\n",
      "<class 'music21.note.Note'>\n",
      "<class 'music21.note.Note'>\n",
      "<class 'music21.note.Note'>\n",
      "<class 'music21.note.Note'>\n",
      "<class 'music21.note.Note'>\n",
      "<class 'music21.note.Note'>\n",
      "<class 'music21.note.Note'>\n",
      "<class 'music21.note.Note'>\n",
      "<class 'music21.note.Note'>\n",
      "<class 'music21.note.Note'>\n",
      "<class 'music21.note.Note'>\n",
      "<class 'music21.note.Note'>\n",
      "<class 'music21.note.Note'>\n",
      "<class 'music21.note.Note'>\n",
      "<class 'music21.note.Note'>\n",
      "<class 'music21.note.Note'>\n",
      "<class 'music21.note.Note'>\n",
      "<class 'music21.note.Note'>\n",
      "<class 'music21.note.Note'>\n",
      "<class 'music21.note.Note'>\n",
      "<class 'music21.note.Note'>\n",
      "<class 'music21.note.Note'>\n",
      "<class 'music21.note.Note'>\n",
      "<class 'music21.note.Note'>\n",
      "<class 'music21.note.Note'>\n",
      "<class 'music21.note.Note'>\n",
      "<class 'music21.note.Note'>\n",
      "<class 'music21.note.Note'>\n",
      "<class 'music21.note.Note'>\n",
      "<class 'music21.note.Note'>\n",
      "<class 'music21.note.Note'>\n",
      "<class 'music21.note.Note'>\n",
      "<class 'music21.note.Note'>\n",
      "<class 'music21.note.Note'>\n",
      "<class 'music21.note.Note'>\n",
      "<class 'music21.note.Note'>\n",
      "<class 'music21.note.Note'>\n",
      "<class 'music21.note.Note'>\n",
      "<class 'music21.note.Note'>\n",
      "<class 'music21.note.Note'>\n",
      "<class 'music21.note.Note'>\n",
      "<class 'music21.note.Note'>\n",
      "<class 'music21.note.Note'>\n",
      "<class 'music21.note.Note'>\n",
      "<class 'music21.note.Note'>\n",
      "<class 'music21.note.Note'>\n",
      "<class 'music21.note.Note'>\n",
      "<class 'music21.note.Note'>\n",
      "<class 'music21.note.Note'>\n",
      "<class 'music21.note.Note'>\n",
      "<class 'music21.note.Note'>\n",
      "<class 'music21.note.Note'>\n",
      "<class 'music21.note.Note'>\n",
      "<class 'music21.note.Note'>\n",
      "<class 'music21.note.Note'>\n",
      "<class 'music21.note.Note'>\n",
      "<class 'music21.note.Note'>\n",
      "<class 'music21.note.Note'>\n",
      "<class 'music21.note.Note'>\n",
      "<class 'music21.note.Note'>\n",
      "<class 'music21.note.Note'>\n",
      "<class 'music21.note.Note'>\n",
      "<class 'music21.note.Note'>\n",
      "<class 'music21.note.Note'>\n",
      "<class 'music21.note.Note'>\n",
      "<class 'music21.note.Note'>\n",
      "<class 'music21.note.Note'>\n",
      "<class 'music21.note.Note'>\n",
      "<class 'music21.note.Note'>\n",
      "<class 'music21.note.Note'>\n",
      "<class 'music21.note.Note'>\n",
      "<class 'music21.note.Note'>\n",
      "<class 'music21.note.Note'>\n",
      "<class 'music21.note.Note'>\n",
      "<class 'music21.note.Note'>\n",
      "<class 'music21.note.Note'>\n",
      "<class 'music21.note.Note'>\n",
      "<class 'music21.note.Note'>\n",
      "<class 'music21.note.Note'>\n",
      "<class 'music21.note.Note'>\n",
      "<class 'music21.note.Note'>\n",
      "<class 'music21.note.Note'>\n",
      "<class 'music21.note.Note'>\n",
      "<class 'music21.note.Note'>\n",
      "<class 'music21.note.Note'>\n",
      "<class 'music21.note.Note'>\n",
      "<class 'music21.note.Note'>\n",
      "<class 'music21.note.Note'>\n",
      "<class 'music21.note.Note'>\n",
      "<class 'music21.note.Note'>\n",
      "<class 'music21.note.Note'>\n",
      "<class 'music21.note.Note'>\n",
      "<class 'music21.note.Note'>\n",
      "<class 'music21.note.Note'>\n",
      "<class 'music21.note.Note'>\n",
      "<class 'music21.note.Note'>\n",
      "<class 'music21.note.Note'>\n",
      "<class 'music21.note.Note'>\n",
      "<class 'music21.note.Note'>\n",
      "<class 'music21.note.Note'>\n",
      "<class 'music21.note.Note'>\n",
      "<class 'music21.note.Note'>\n",
      "<class 'music21.note.Note'>\n",
      "<class 'music21.note.Note'>\n",
      "<class 'music21.note.Note'>\n",
      "<class 'music21.note.Note'>\n",
      "<class 'music21.note.Note'>\n",
      "<class 'music21.note.Note'>\n",
      "<class 'music21.note.Note'>\n",
      "<class 'music21.note.Note'>\n",
      "<class 'music21.note.Note'>\n",
      "<class 'music21.note.Note'>\n",
      "<class 'music21.note.Note'>\n",
      "<class 'music21.note.Note'>\n",
      "<class 'music21.note.Note'>\n",
      "<class 'music21.note.Note'>\n",
      "<class 'music21.note.Note'>\n",
      "<class 'music21.note.Note'>\n",
      "<class 'music21.note.Note'>\n",
      "<class 'music21.note.Note'>\n",
      "<class 'music21.note.Note'>\n",
      "<class 'music21.note.Note'>\n",
      "<class 'music21.note.Note'>\n",
      "<class 'music21.note.Note'>\n",
      "<class 'music21.note.Note'>\n",
      "<class 'music21.note.Note'>\n",
      "<class 'music21.note.Note'>\n",
      "<class 'music21.note.Note'>\n",
      "<class 'music21.note.Note'>\n",
      "<class 'music21.note.Note'>\n",
      "<class 'music21.note.Note'>\n",
      "<class 'music21.note.Note'>\n",
      "<class 'music21.note.Note'>\n",
      "<class 'music21.note.Note'>\n",
      "<class 'music21.note.Note'>\n",
      "<class 'music21.note.Note'>\n",
      "<class 'music21.note.Note'>\n",
      "<class 'music21.note.Note'>\n",
      "<class 'music21.note.Note'>\n",
      "<class 'music21.note.Note'>\n",
      "<class 'music21.note.Note'>\n",
      "<class 'music21.note.Note'>\n",
      "<class 'music21.note.Note'>\n",
      "<class 'music21.note.Note'>\n",
      "<class 'music21.note.Note'>\n",
      "<class 'music21.note.Note'>\n",
      "<class 'music21.note.Note'>\n",
      "<class 'music21.note.Note'>\n",
      "<class 'music21.note.Note'>\n",
      "<class 'music21.note.Note'>\n",
      "<class 'music21.note.Note'>\n",
      "<class 'music21.note.Note'>\n",
      "<class 'music21.note.Note'>\n",
      "<class 'music21.note.Note'>\n",
      "<class 'music21.note.Note'>\n",
      "<class 'music21.note.Note'>\n",
      "<class 'music21.note.Note'>\n",
      "<class 'music21.note.Note'>\n",
      "<class 'music21.note.Note'>\n",
      "<class 'music21.note.Note'>\n",
      "<class 'music21.note.Note'>\n",
      "<class 'music21.note.Note'>\n",
      "<class 'music21.note.Note'>\n",
      "<class 'music21.note.Note'>\n",
      "<class 'music21.note.Note'>\n",
      "<class 'music21.note.Note'>\n",
      "<class 'music21.note.Note'>\n",
      "<class 'music21.note.Note'>\n",
      "<class 'music21.note.Note'>\n",
      "<class 'music21.note.Note'>\n",
      "<class 'music21.note.Note'>\n",
      "<class 'music21.note.Note'>\n",
      "<class 'music21.note.Note'>\n",
      "<class 'music21.note.Note'>\n",
      "<class 'music21.note.Note'>\n",
      "<class 'music21.note.Note'>\n",
      "(259, 255)\n"
     ]
    }
   ],
   "source": [
    "count = 0\n",
    "for item in midi_data[0]:\n",
    "    print type(item)\n",
    "    if type(item) is m21.note.Note:\n",
    "        count += 1\n",
    "print(len(midi_data[0]), count)"
   ]
  },
  {
   "cell_type": "code",
   "execution_count": 222,
   "metadata": {},
   "outputs": [
    {
     "name": "stdout",
     "output_type": "stream",
     "text": [
      "None\n"
     ]
    }
   ],
   "source": [
    "onsets, profile = lbdm(test_data)"
   ]
  },
  {
   "cell_type": "code",
   "execution_count": 206,
   "metadata": {},
   "outputs": [
    {
     "data": {
      "text/plain": [
       "Text(0.5,0,'Time in quarter lengths')"
      ]
     },
     "execution_count": 206,
     "metadata": {},
     "output_type": "execute_result"
    },
    {
     "data": {
      "image/png": "[encoded data removed]",
      "text/plain": [
       "<Figure size 936x216 with 1 Axes>"
      ]
     },
     "metadata": {
      "image/png": {
       "height": 209,
       "width": 764
      }
     },
     "output_type": "display_data"
    }
   ],
   "source": [
    "plt.figure(figsize=(13, 3))\n",
    "plt.stem(onsets, profile)\n",
    "plt.xlabel('Time in quarter lengths')"
   ]
  },
  {
   "cell_type": "code",
   "execution_count": 168,
   "metadata": {},
   "outputs": [
    {
     "data": {
      "text/plain": [
       "259"
      ]
     },
     "execution_count": 168,
     "metadata": {},
     "output_type": "execute_result"
    }
   ],
   "source": [
    "len(profile)"
   ]
  },
  {
   "cell_type": "code",
   "execution_count": 81,
   "metadata": {},
   "outputs": [
    {
     "data": {
      "text/plain": [
       "258"
      ]
     },
     "execution_count": 81,
     "metadata": {},
     "output_type": "execute_result"
    }
   ],
   "source": [
    "len(mapping)"
   ]
  },
  {
   "cell_type": "markdown",
   "metadata": {},
   "source": [
    "## Reading ground truth"
   ]
  },
  {
   "cell_type": "code",
   "execution_count": 11,
   "metadata": {},
   "outputs": [],
   "source": [
    "from symbtrdataextractor.dataextractor import DataExtractor"
   ]
  },
  {
   "cell_type": "code",
   "execution_count": 12,
   "metadata": {},
   "outputs": [],
   "source": [
    "extractor = DataExtractor()"
   ]
  },
  {
   "cell_type": "code",
   "execution_count": 207,
   "metadata": {},
   "outputs": [],
   "source": [
    "txt_filename = 'txt/{}.txt'.format(test_filename)\n",
    "txt_data, is_data_valid = extractor.extract(txt_filename)"
   ]
  },
  {
   "cell_type": "code",
   "execution_count": 208,
   "metadata": {},
   "outputs": [],
   "source": [
    "with open(txt_filename) as fp:\n",
    "    raw_txt = fp.readlines()"
   ]
  },
  {
   "cell_type": "code",
   "execution_count": 202,
   "metadata": {},
   "outputs": [
    {
     "data": {
      "text/plain": [
       "{'composer': {'symbtr_slug': 'munir_nurettin_selcuk'},\n",
       " 'duration': {'unit': 'second', 'value': 136.674},\n",
       " 'form': {'attribute_key': u'sarki', 'symbtr_slug': 'sarki'},\n",
       " 'lyricist': {},\n",
       " 'makam': {'attribute_key': u'mahur', 'symbtr_slug': 'mahur'},\n",
       " 'name': {},\n",
       " 'number_of_notes': 280,\n",
       " 'phrase_annotations': [],\n",
       " 'rhythmic_structure': [{'endNote': 280,\n",
       "   'startNote': 1,\n",
       "   'tempo': {'unit': 'bpm', 'value': 288},\n",
       "   'usul': {'attribute_key': u'sofyan',\n",
       "    'mertebe': 4,\n",
       "    'mu2_name': u'Sofyan',\n",
       "    'number_of_pulses': 4,\n",
       "    'symbtr_internal_id': 6}}],\n",
       " 'sections': [{'end_note': 55,\n",
       "   'lyrics': '',\n",
       "   'lyrics_similarities': [1.0, 0.0, 0.0, 0.0, 0.0, 0.0],\n",
       "   'lyrics_structure': 'INSTRUMENTAL',\n",
       "   'melodic_similarities': [1.0,\n",
       "    0.203125,\n",
       "    0.1875,\n",
       "    0.12109375,\n",
       "    0.265625,\n",
       "    0.359375],\n",
       "   'melodic_structure': u'A1',\n",
       "   'name': u'ARANA\\u011eME',\n",
       "   'slug': u'ARANAGME',\n",
       "   'start_note': 2},\n",
       "  {'end_note': 94,\n",
       "   'lyrics': u'Ne do\\u011fan g\\xfcne h\\xfckm\\xfcm ge\\xe7er ne halden anlayan bulunur  ',\n",
       "   'lyrics_similarities': [0.0,\n",
       "    1.0,\n",
       "    1.0,\n",
       "    0.31818181818181823,\n",
       "    0.0888888888888889,\n",
       "    0.20833333333333337],\n",
       "   'lyrics_structure': u'B1',\n",
       "   'melodic_similarities': [0.203125,\n",
       "    1.0,\n",
       "    0.8333333333333334,\n",
       "    0.328125,\n",
       "    0.09375,\n",
       "    0.125],\n",
       "   'melodic_structure': u'B1',\n",
       "   'name': u'VOCAL_SECTION',\n",
       "   'slug': u'VOCAL_SECTION',\n",
       "   'start_note': 56},\n",
       "  {'end_note': 130,\n",
       "   'lyrics': u'Ne do\\u011fan g\\xfcne h\\xfckm\\xfcm ge\\xe7er ne halden anlayan bulunur  ',\n",
       "   'lyrics_similarities': [0.0,\n",
       "    1.0,\n",
       "    1.0,\n",
       "    0.31818181818181823,\n",
       "    0.0888888888888889,\n",
       "    0.20833333333333337],\n",
       "   'lyrics_structure': u'B1',\n",
       "   'melodic_similarities': [0.1875,\n",
       "    0.8333333333333334,\n",
       "    1.0,\n",
       "    0.28125,\n",
       "    0.0625,\n",
       "    0.1071428571428571],\n",
       "   'melodic_structure': u'B2',\n",
       "   'name': u'VOCAL_SECTION',\n",
       "   'slug': u'VOCAL_SECTION',\n",
       "   'start_note': 95},\n",
       "  {'end_note': 193,\n",
       "   'lyrics': u'Akl\\u0131mdan \\xf6l\\xfcm\\xfcm ge\\xe7er Sonra bu bah\\xe7e bu ku\\u015f bu n\\xfbr  ',\n",
       "   'lyrics_similarities': [0.0,\n",
       "    0.31818181818181823,\n",
       "    0.31818181818181823,\n",
       "    1.0,\n",
       "    0.0888888888888889,\n",
       "    0.14583333333333337],\n",
       "   'lyrics_structure': u'C1',\n",
       "   'melodic_similarities': [0.12109375,\n",
       "    0.328125,\n",
       "    0.28125,\n",
       "    1.0,\n",
       "    0.125,\n",
       "    0.10546875],\n",
       "   'melodic_structure': u'C1',\n",
       "   'name': u'VOCAL_SECTION',\n",
       "   'slug': u'VOCAL_SECTION',\n",
       "   'start_note': 131},\n",
       "  {'end_note': 238,\n",
       "   'lyrics': u'Ve g\\xf6n\\xfcl tanr\\u0131s\\u0131na der ki perv\\xe2m yok verdi\\u011fin elemden  ',\n",
       "   'lyrics_similarities': [0.0,\n",
       "    0.0888888888888889,\n",
       "    0.0888888888888889,\n",
       "    0.0888888888888889,\n",
       "    1.0,\n",
       "    0.3125],\n",
       "   'lyrics_structure': u'D1',\n",
       "   'melodic_similarities': [0.265625,\n",
       "    0.09375,\n",
       "    0.0625,\n",
       "    0.125,\n",
       "    1.0,\n",
       "    0.2053571428571429],\n",
       "   'melodic_structure': u'D1',\n",
       "   'name': u'VOCAL_SECTION',\n",
       "   'slug': u'VOCAL_SECTION',\n",
       "   'start_note': 194},\n",
       "  {'end_note': 280,\n",
       "   'lyrics': u'Her mihnet kabul\\xfcm yeter ki g\\xfcn_eksilmesin penceremden  ',\n",
       "   'lyrics_similarities': [0.0,\n",
       "    0.20833333333333337,\n",
       "    0.20833333333333337,\n",
       "    0.14583333333333337,\n",
       "    0.3125,\n",
       "    1.0],\n",
       "   'lyrics_structure': u'E1',\n",
       "   'melodic_similarities': [0.359375,\n",
       "    0.125,\n",
       "    0.1071428571428571,\n",
       "    0.10546875,\n",
       "    0.2053571428571429,\n",
       "    1.0],\n",
       "   'melodic_structure': u'E1',\n",
       "   'name': u'VOCAL_SECTION',\n",
       "   'slug': u'VOCAL_SECTION',\n",
       "   'start_note': 239}],\n",
       " 'segments': [],\n",
       " 'symbtr': 'mahur--sarki--sofyan--ne_dogan--munir_nurettin_selcuk',\n",
       " 'tonic': u'G4',\n",
       " 'usul': {'attribute_key': u'sofyan', 'symbtr_slug': 'sofyan'}}"
      ]
     },
     "execution_count": 202,
     "metadata": {},
     "output_type": "execute_result"
    }
   ],
   "source": [
    "txt_data"
   ]
  },
  {
   "cell_type": "code",
   "execution_count": 223,
   "metadata": {},
   "outputs": [
    {
     "name": "stdout",
     "output_type": "stream",
     "text": [
      "[2, 35, 67, 101, 135, 166, 197, 231]\n",
      "[ 0.22222222  4.22222222  8.22222222 12.22222222 16.22222222 20.22222222\n",
      " 24.22222222 28.22222222]\n"
     ]
    }
   ],
   "source": [
    "section_notes = [section['start_note'] for section in txt_data['sections']]\n",
    "print(section_notes)\n",
    "section_offsets = [raw_txt[note].split()[-1] for note in section_notes]\n",
    "section_offsets = np.array(section_offsets, dtype=float)\n",
    "# section_offsets -= section_offsets[0]\n",
    "print(section_offsets)"
   ]
  },
  {
   "cell_type": "code",
   "execution_count": 214,
   "metadata": {},
   "outputs": [
    {
     "data": {
      "text/plain": [
       "Text(0.5,0,'Time in quarter lengths')"
      ]
     },
     "execution_count": 214,
     "metadata": {},
     "output_type": "execute_result"
    },
    {
     "data": {
      "image/png": "[encoded data removed]",
      "text/plain": [
       "<Figure size 936x216 with 1 Axes>"
      ]
     },
     "metadata": {
      "image/png": {
       "height": 209,
       "width": 764
      }
     },
     "output_type": "display_data"
    }
   ],
   "source": [
    "plt.figure(figsize=(13, 3))\n",
    "plt.stem(onsets / 4, profile)\n",
    "plt.vlines(section_offsets, 0, 1, 'r', linestyles='dashed')\n",
    "plt.xlabel('Time in quarter lengths')\n"
   ]
  },
  {
   "cell_type": "code",
   "execution_count": 200,
   "metadata": {},
   "outputs": [
    {
     "data": {
      "text/plain": [
       "Text(0.5,0,'Time in quarter lengths')"
      ]
     },
     "execution_count": 200,
     "metadata": {},
     "output_type": "execute_result"
    },
    {
     "data": {
      "image/png": "[encoded data removed]",
      "text/plain": [
       "<Figure size 936x216 with 1 Axes>"
      ]
     },
     "metadata": {
      "image/png": {
       "height": 209,
       "width": 764
      }
     },
     "output_type": "display_data"
    }
   ],
   "source": [
    "plt.figure(figsize=(13, 3))\n",
    "plt.stem(onsets, profile)\n",
    "plt.vlines(onsets[mapping[annotated_sections]], 0, 1, 'r', linestyles='dashed')\n",
    "# plt.stem(cum_durations[mapping[annotated_sections]], np.ones_like(annotated_sections), 'r')\n",
    "plt.xlabel('Time in quarter lengths')\n"
   ]
  },
  {
   "cell_type": "code",
   "execution_count": 216,
   "metadata": {},
   "outputs": [
    {
     "data": {
      "text/plain": [
       "array([  0.  ,   1.  ,   1.5 ,   2.  ,   3.  ,   4.  ,   4.5 ,   5.25,\n",
       "         5.5 ,   6.  ,   6.5 ,   7.  ,   7.5 ,   9.  ,  10.  ,  10.5 ,\n",
       "        11.  ,  11.5 ,  12.  ,  12.5 ,  13.  ,  13.5 ,  14.  ,  14.25,\n",
       "        14.5 ,  15.  ,  15.5 ,  16.  ,  16.5 ,  17.25,  17.5 ,  17.75,\n",
       "        18.  ,  19.  ,  19.5 ,  20.  ,  21.  ,  22.  ,  22.5 ,  23.25,\n",
       "        23.5 ,  24.  ,  24.5 ,  25.  ,  25.5 ,  27.  ,  28.  ,  28.5 ,\n",
       "        29.  ,  29.5 ,  30.  ,  30.5 ,  31.  ,  31.5 ,  33.  ,  33.5 ,\n",
       "        34.  ,  34.5 ,  34.75,  35.  ,  35.25,  35.5 ,  35.75,  36.  ,\n",
       "        37.  ,  37.5 ,  38.  ,  38.5 ,  39.  ,  39.5 ,  40.  ,  40.5 ,\n",
       "        41.  ,  42.  ,  42.5 ,  43.  ,  43.5 ,  44.5 ,  44.75,  45.  ,\n",
       "        46.  ,  47.  ,  47.5 ,  48.  ,  48.5 ,  49.  ,  49.5 ,  50.  ,\n",
       "        50.5 ,  51.  ,  51.5 ,  52.5 ,  52.75,  53.  ,  53.25,  53.5 ,\n",
       "        53.75,  54.  ,  55.  ,  55.5 ,  56.  ,  56.5 ,  57.  ,  57.5 ,\n",
       "        58.  ,  58.5 ,  59.  ,  60.  ,  60.5 ,  61.  ,  61.5 ,  62.5 ,\n",
       "        62.75,  63.  ,  64.  ,  65.  ,  65.5 ,  66.  ,  66.5 ,  67.  ,\n",
       "        67.5 ,  68.  ,  68.5 ,  69.  ,  69.5 ,  70.5 ,  70.75,  71.  ,\n",
       "        71.25,  71.5 ,  71.75,  72.  ,  73.  ,  73.5 ,  74.  ,  75.  ,\n",
       "        76.5 ,  77.  ,  77.5 ,  78.  ,  78.5 ,  79.  ,  79.5 ,  80.5 ,\n",
       "        81.  ,  82.  ,  83.  ,  83.5 ,  84.  ,  84.5 ,  85.  ,  85.5 ,\n",
       "        86.  ,  86.5 ,  87.  ,  87.5 ,  88.5 ,  88.75,  89.  ,  89.25,\n",
       "        89.5 ,  89.75,  90.  ,  91.  ,  91.5 ,  92.  ,  93.  ,  94.5 ,\n",
       "        95.  ,  95.5 ,  96.  ,  96.5 ,  97.  ,  97.5 ,  98.5 ,  99.  ,\n",
       "       100.  , 101.  , 101.5 , 102.  , 102.5 , 103.  , 103.5 , 104.  ,\n",
       "       104.5 , 105.  , 105.5 , 106.5 , 106.75, 107.  , 107.25, 107.5 ,\n",
       "       107.75, 108.  , 109.  , 109.5 , 110.  , 110.5 , 111.  , 111.5 ,\n",
       "       112.  , 112.5 , 113.  , 114.  , 114.5 , 115.  , 115.5 , 116.5 ,\n",
       "       116.75, 117.  , 118.  , 119.  , 119.5 , 120.  , 120.5 , 121.  ,\n",
       "       121.5 , 122.  , 122.5 , 123.  , 123.5 , 124.5 , 124.75, 125.  ,\n",
       "       125.25, 125.5 , 125.75, 126.  , 127.  , 127.5 , 128.  , 128.5 ,\n",
       "       129.  , 129.5 , 130.  , 130.5 , 131.  , 132.  , 132.5 , 133.  ,\n",
       "       133.5 , 134.5 , 134.75, 135.  , 136.  , 137.  , 137.5 , 138.  ,\n",
       "       138.5 , 139.  , 139.5 , 140.  , 140.5 , 141.  , 141.5 ])"
      ]
     },
     "execution_count": 216,
     "metadata": {},
     "output_type": "execute_result"
    }
   ],
   "source": [
    "onsets"
   ]
  },
  {
   "cell_type": "code",
   "execution_count": 132,
   "metadata": {},
   "outputs": [
    {
     "data": {
      "text/plain": [
       "array([0, 0.25, 0.5, 0.75, 1.0, 1.25, 1.5, 1.75, 2.0, 2.25, 2.5, 3.5, 4.5,\n",
       "       5.5, 6.5, 6.75, 7.0, 7.25, 7.5, 7.75, 8.0, 8.25, 8.5, 8.75, 9.0,\n",
       "       10.0, 11.0, 12.0, 13.0, 13.5, 14.5, 15.0, 15.5, 16.0, 16.5, 17.0,\n",
       "       17.5, 18.5, 19.0, 19.5, 20.0, 20.5, 21.0, 21.25, 21.5, 21.75, 22.0,\n",
       "       22.25, 22.5, 22.75, 23.0, 23.25, 23.5, 27.25, 27.75, 28.25, 29.25,\n",
       "       29.583333333333332, 29.583333333333332, 31.083333333333332,\n",
       "       31.833333333333332, 32.08333333333333, 32.83333333333333,\n",
       "       33.08333333333333, 33.58333333333333, 34.58333333333333,\n",
       "       34.83333333333333, 35.08333333333333, 38.83333333333333,\n",
       "       39.33333333333333, 39.33333333333333, 40.08333333333333,\n",
       "       40.33333333333333, 41.83333333333333, 42.08333333333333,\n",
       "       42.83333333333333, 43.33333333333333, 43.58333333333333,\n",
       "       45.58333333333333, 46.08333333333333, 47.08333333333333,\n",
       "       47.58333333333333, 48.08333333333333, 48.58333333333333,\n",
       "       49.58333333333333, 50.08333333333333, 50.58333333333333,\n",
       "       51.58333333333333, 51.916666666666664, 53.416666666666664,\n",
       "       54.166666666666664, 54.916666666666664, 55.416666666666664,\n",
       "       56.416666666666664, 56.666666666666664, 60.416666666666664,\n",
       "       60.916666666666664, 60.916666666666664, 61.666666666666664,\n",
       "       61.916666666666664, 62.166666666666664, 62.416666666666664,\n",
       "       62.666666666666664, 62.916666666666664, 63.166666666666664,\n",
       "       63.416666666666664, 65.41666666666666, 65.91666666666666,\n",
       "       66.91666666666666, 67.41666666666666, 67.91666666666666,\n",
       "       68.16666666666666, 68.41666666666666, 68.91666666666666,\n",
       "       69.91666666666666, 70.41666666666666, 70.66666666666666,\n",
       "       71.16666666666666, 71.16666666666666, 71.16666666666666,\n",
       "       71.16666666666666, 71.16666666666666, 71.16666666666666,\n",
       "       71.16666666666666, 71.16666666666666, 71.16666666666666,\n",
       "       71.16666666666666, 71.16666666666666, 71.16666666666666,\n",
       "       71.16666666666666, 71.16666666666666, 71.16666666666666,\n",
       "       71.16666666666666, 71.16666666666666, 71.41666666666666,\n",
       "       71.66666666666666, 71.91666666666666, 72.16666666666666,\n",
       "       72.41666666666666, 72.66666666666666, 72.91666666666666,\n",
       "       73.16666666666666, 73.41666666666666, 73.66666666666666,\n",
       "       74.16666666666666, 74.66666666666666, 75.16666666666666,\n",
       "       75.66666666666666, 77.66666666666666, 78.16666666666666,\n",
       "       79.16666666666666, 79.66666666666666, 79.91666666666666,\n",
       "       80.16666666666666, 80.41666666666666, 80.66666666666666,\n",
       "       81.16666666666666, 81.66666666666666, 82.41666666666666,\n",
       "       83.16666666666666, 83.66666666666666, 83.91666666666666,\n",
       "       84.66666666666666, 85.41666666666666, 87.41666666666666,\n",
       "       87.66666666666666, 87.91666666666666, 88.41666666666666,\n",
       "       89.41666666666666, 90.16666666666666, 90.91666666666666,\n",
       "       91.91666666666666, 92.41666666666666, 92.91666666666666,\n",
       "       93.16666666666666, 93.41666666666666, 93.66666666666666,\n",
       "       94.66666666666666, 95.41666666666666, 96.41666666666666,\n",
       "       96.66666666666666, 96.91666666666666, 97.16666666666666,\n",
       "       98.16666666666666, 99.16666666666666, 100.16666666666666,\n",
       "       101.66666666666666, 102.16666666666666, 103.16666666666666,\n",
       "       103.66666666666666, 104.16666666666666, 104.66666666666666,\n",
       "       105.16666666666666, 105.91666666666666, 106.66666666666666,\n",
       "       107.41666666666666, 107.91666666666666, 109.91666666666666,\n",
       "       111.41666666666666, 111.91666666666666, 112.41666666666666,\n",
       "       112.91666666666666, 113.41666666666666, 113.91666666666666,\n",
       "       114.16666666666666, 114.41666666666666, 114.66666666666666,\n",
       "       118.41666666666666, 118.66666666666666, 118.91666666666666,\n",
       "       119.16666666666666, 119.41666666666666, 119.41666666666666,\n",
       "       119.66666666666666, 119.91666666666666, 120.16666666666666,\n",
       "       121.66666666666666, 122.41666666666666, 122.91666666666666,\n",
       "       124.91666666666666, 125.91666666666666, 127.41666666666666,\n",
       "       127.91666666666666, 128.66666666666666, 129.16666666666666,\n",
       "       131.16666666666666, 135.41666666666666, 135.91666666666666,\n",
       "       136.41666666666666, 136.91666666666666, 137.41666666666666,\n",
       "       138.91666666666666, 140.41666666666666, 140.91666666666666,\n",
       "       141.16666666666666, 141.41666666666666, 141.66666666666666,\n",
       "       141.91666666666666, 142.16666666666666, 142.41666666666666,\n",
       "       142.66666666666666, 143.16666666666666, 143.66666666666666,\n",
       "       143.91666666666666, 144.16666666666666, 144.41666666666666,\n",
       "       144.91666666666666, 145.41666666666666, 145.91666666666666,\n",
       "       146.41666666666666, 146.66666666666666, 146.91666666666666,\n",
       "       147.16666666666666, 147.66666666666666, 148.16666666666666,\n",
       "       149.16666666666666, 149.66666666666666, 150.16666666666666,\n",
       "       150.66666666666666], dtype=object)"
      ]
     },
     "execution_count": 132,
     "metadata": {},
     "output_type": "execute_result"
    }
   ],
   "source": [
    "cum_durations"
   ]
  }
 ],
 "metadata": {
  "kernelspec": {
   "display_name": "Python 3",
   "language": "python",
   "name": "python3"
  },
  "language_info": {
   "codemirror_mode": {
    "name": "ipython",
    "version": 2
   },
   "file_extension": ".py",
   "mimetype": "text/x-python",
   "name": "python",
   "nbconvert_exporter": "python",
   "pygments_lexer": "ipython2",
   "version": "2.7.14"
  }
 },
 "nbformat": 4,
 "nbformat_minor": 2
}
